{
 "cells": [
  {
   "cell_type": "code",
   "execution_count": 77,
   "metadata": {},
   "outputs": [],
   "source": [
    "class Person():\n",
    "    \"\"\"人的类\"\"\"\n",
    "    def __init__(self,name):\n",
    "        self.name=name\n",
    "        self.hp=100\n",
    "        self.gun=None # 记录人手中枪的状态\n",
    "        \n",
    "    def anzhuang_zidan(self,zi_dan_temp,dan_jia_temp):\n",
    "        \"\"\"安装子弹到弹夹中\"\"\"\n",
    "        dan_jia_temp.baocun_zidan(zi_dan_temp)\n",
    "        \n",
    "    def anzhuang_danjia(self,dan_jia_temp,gun_temp):\n",
    "        \"\"\"安装弹夹到枪上\"\"\"\n",
    "        gun_temp.zhuang_danjia(dan_jia_temp)\n",
    "        \n",
    "    def naqiang(self,gun_temp):\n",
    "        \"\"\"拿枪\"\"\"\n",
    "        self.gun=gun_temp\n",
    "    \n",
    "    def kai_qiang(self,diren):\n",
    "        \"\"\"开枪\"\"\"\n",
    "        self.gun.fire(diren)\n",
    "    \n",
    "    def diaoxue(self,sha_shang_li):\n",
    "        \"\"\"中枪之后掉血\"\"\"\n",
    "        self.hp-=sha_shang_li\n",
    "        \n",
    "    def __str__(self):\n",
    "        if self.hp>0:   \n",
    "            if self.gun:\n",
    "                return \"%s的血量为：%d，他手上有%s。\"%(self.name,self.hp,self.gun)\n",
    "            else:\n",
    "                return \"%s的血量为：%d,他手上没枪\"%(self.name,self.hp)\n",
    "        else:\n",
    "            return \"%s已挂。。。。。。\"%self.name\n",
    "        \n",
    "class Gun():\n",
    "    \"\"\"枪的类\"\"\"\n",
    "    def __init__(self,name):\n",
    "        self.name=name\n",
    "        self.danjia=None# 记录枪中弹夹的状态\n",
    "    \n",
    "    def zhuang_danjia(self,dan_jia_temp):\n",
    "        \"\"\"装弹夹\"\"\"\n",
    "        self.danjia=dan_jia_temp\n",
    "    \n",
    "    def fire(self,diren):\n",
    "        \"\"\"枪开火\"\"\"\n",
    "        #枪的动作：1.先从弹夹中取子弹，说明弹夹弹出一颗子弹\n",
    "        zidan_temp=self.danjia.tanchu_zidan()\n",
    "        if zidan_temp:\n",
    "            #子弹的动作：子弹.打中敌人（敌人）\n",
    "            zidan_temp.dazhong(diren)\n",
    "        else:\n",
    "            print(\"弹夹没子弹了。。。。\")\n",
    "    def __str__(self):\n",
    "        if self.danjia:\n",
    "            return \"枪：%s,弹夹%d/%d\"%(self.name,len(self.danjia.zidan_list),self.danjia.max_num)\n",
    "        else:\n",
    "            return \"枪：%s,没有弹夹\"%self.name\n",
    "        \n",
    "class Danjia():\n",
    "    \"\"\"弹夹类\"\"\"\n",
    "    def __init__(self,max_num):\n",
    "        self.max_num=max_num\n",
    "        self.zidan_list=[] #子弹数\n",
    "        \n",
    "    def baocun_zidan(self,zi_dan_temp):\n",
    "        \"\"\"把子弹装到弹夹中\"\"\"\n",
    "        self.zidan_list.append(zi_dan_temp)\n",
    "    \n",
    "    def tanchu_zidan(self):\n",
    "        \"\"\"弹出最上面的子弹\"\"\"\n",
    "        if self.zidan_list:\n",
    "            return self.zidan_list.pop()\n",
    "        else:\n",
    "            return None\n",
    "            \n",
    "    def __str__(self):\n",
    "        return \"此时弹夹的状态：%d/%d\"%(len(self.zidan_list),self.max_num)\n",
    "        \n",
    "class Zidan():\n",
    "    \"\"\"子弹类\"\"\"\n",
    "    def __init__(self,sha_shang_li):\n",
    "        self.sha_shang_li=sha_shang_li\n",
    "    \n",
    "    def dazhong(self,diren):\n",
    "        \"\"\"打中敌人，让敌人掉血\"\"\"\n",
    "        #敌人.掉血（一颗子弹的杀伤力）\n",
    "        diren .diaoxue(self.sha_shang_li)\n",
    "\n",
    "\n",
    "        "
   ]
  },
  {
   "cell_type": "code",
   "execution_count": 78,
   "metadata": {},
   "outputs": [
    {
     "name": "stdout",
     "output_type": "stream",
     "text": [
      "老王的血量为：100,他手上没枪\n",
      "老王的血量为：100，他手上有枪：AK47,弹夹19/30。\n",
      "隔壁老宋的血量为：60,他手上没枪\n",
      "隔壁老宋的血量为：60，他手上有枪：M4A1,弹夹20/40。\n"
     ]
    }
   ],
   "source": [
    "#老王出现\n",
    "laowang=Person(\"老王\")\n",
    "\n",
    "#创建枪和弹夹\n",
    "ak47=Gun(\"AK47\")\n",
    "m4a1=Gun('M4A1')\n",
    "dan_jia_ak=Danjia(30)\n",
    "dan_jia_m4=Danjia(40)\n",
    "\n",
    "#创建一些子弹并安装到弹夹中:\n",
    "for i in range(20):\n",
    "    zi_dan_ak=Zidan(40)\n",
    "    laowang.anzhuang_zidan(zi_dan_ak,dan_jia_ak)\n",
    "\n",
    "#老王把弹夹安装到枪上：\n",
    "laowang.anzhuang_danjia(dan_jia_ak,ak47)\n",
    "\n",
    "#测试老王\n",
    "print(laowang)\n",
    "\n",
    "#隔壁老宋出现：\n",
    "gebi_laosong=Person(\"隔壁老宋\")\n",
    "\n",
    "#老王发现隔壁老宋，拿起枪，向老宋开枪\n",
    "laowang.naqiang(ak47)\n",
    "laowang.kai_qiang(gebi_laosong)\n",
    "\n",
    "#测试开枪功能\n",
    "print(laowang)\n",
    "print(gebi_laosong)\n",
    "\n",
    "#老宋拿起枪,向弹夹中装子弹\n",
    "gebi_laosong.naqiang(m4a1)\n",
    "for i in range(20):\n",
    "    zi_dan_m4=Zidan(40)\n",
    "    gebi_laosong.anzhuang_zidan(zi_dan_m4,dan_jia_m4)\n",
    "#老宋把弹夹装到枪上\n",
    "gebi_laosong.anzhuang_danjia(dan_jia_m4,m4a1)\n",
    "\n",
    "#测试老宋\n",
    "print(gebi_laosong)\n",
    "\n",
    "\n",
    "\n",
    "\n",
    "\n",
    "\n",
    "    \n",
    "\n",
    "\n",
    "\n"
   ]
  },
  {
   "cell_type": "code",
   "execution_count": 79,
   "metadata": {},
   "outputs": [
    {
     "name": "stdout",
     "output_type": "stream",
     "text": [
      "老王的血量为：60，他手上有枪：AK47,弹夹19/30。\n"
     ]
    }
   ],
   "source": [
    "#老宋反击\n",
    "gebi_laosong.kai_qiang(laowang)\n",
    "\n",
    "#测试攻击\n",
    "print(laowang )\n"
   ]
  },
  {
   "cell_type": "code",
   "execution_count": 80,
   "metadata": {},
   "outputs": [
    {
     "name": "stdout",
     "output_type": "stream",
     "text": [
      "隔壁老宋的血量为：60，他手上有枪：M4A1,弹夹19/40。\n"
     ]
    }
   ],
   "source": [
    "print(gebi_laosong)"
   ]
  },
  {
   "cell_type": "code",
   "execution_count": null,
   "metadata": {},
   "outputs": [],
   "source": []
  }
 ],
 "metadata": {
  "kernelspec": {
   "display_name": "Python 3",
   "language": "python",
   "name": "python3"
  },
  "language_info": {
   "codemirror_mode": {
    "name": "ipython",
    "version": 3
   },
   "file_extension": ".py",
   "mimetype": "text/x-python",
   "name": "python",
   "nbconvert_exporter": "python",
   "pygments_lexer": "ipython3",
   "version": "3.6.5"
  }
 },
 "nbformat": 4,
 "nbformat_minor": 2
}
